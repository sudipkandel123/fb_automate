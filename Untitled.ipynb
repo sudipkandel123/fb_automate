{
 "cells": [
  {
   "cell_type": "code",
   "execution_count": 29,
   "metadata": {},
   "outputs": [],
   "source": [
    "import sqlalchemy\n",
    "import pandas as pd\n",
    "con = sqlalchemy.create_engine(\"postgresql://sudip@localhost:5432/test\")\n",
    "df = pd.read_sql_query(\"select * from automation.user_data\",con)\n"
   ]
  },
  {
   "cell_type": "code",
   "execution_count": 30,
   "metadata": {},
   "outputs": [
    {
     "data": {
      "text/plain": [
       "['id', 'name', 'user_id', 'link', 'website']"
      ]
     },
     "execution_count": 30,
     "metadata": {},
     "output_type": "execute_result"
    }
   ],
   "source": [
    "cols = df.columns.to_list()\n",
    "cols"
   ]
  },
  {
   "cell_type": "code",
   "execution_count": 31,
   "metadata": {},
   "outputs": [
    {
     "data": {
      "text/plain": [
       "2"
      ]
     },
     "execution_count": 31,
     "metadata": {},
     "output_type": "execute_result"
    }
   ],
   "source": [
    "len(df)"
   ]
  },
  {
   "cell_type": "code",
   "execution_count": 40,
   "metadata": {},
   "outputs": [
    {
     "name": "stdout",
     "output_type": "stream",
     "text": [
      "id                           1\n",
      "name              Sudip Kandel\n",
      "user_id                 sudipf\n",
      "link       facebook.com/sudipf\n",
      "website           facebook.com\n",
      "Name: 0, dtype: object\n",
      "id                           1\n",
      "name              Sudip Kandel\n",
      "user_id                 sudipf\n",
      "link       facebook.com/sudipf\n",
      "website           facebook.com\n",
      "Name: 0, dtype: object\n"
     ]
    }
   ],
   "source": [
    "for ele in range(len(df)):\n",
    "    #print(\"\\n YO!!!!!\\n\")\n",
    "    #print(df.iloc[ele])\n",
    "    print (df.loc[0])"
   ]
  },
  {
   "cell_type": "code",
   "execution_count": null,
   "metadata": {},
   "outputs": [],
   "source": []
  },
  {
   "cell_type": "code",
   "execution_count": null,
   "metadata": {},
   "outputs": [],
   "source": []
  }
 ],
 "metadata": {
  "kernelspec": {
   "display_name": "Python 3",
   "language": "python",
   "name": "python3"
  },
  "language_info": {
   "codemirror_mode": {
    "name": "ipython",
    "version": 3
   },
   "file_extension": ".py",
   "mimetype": "text/x-python",
   "name": "python",
   "nbconvert_exporter": "python",
   "pygments_lexer": "ipython3",
   "version": "3.7.4"
  }
 },
 "nbformat": 4,
 "nbformat_minor": 2
}
